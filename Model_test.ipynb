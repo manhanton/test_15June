{
  "nbformat": 4,
  "nbformat_minor": 0,
  "metadata": {
    "colab": {
      "name": "Model_test.ipynb",
      "provenance": [],
      "authorship_tag": "ABX9TyPOTE5CFNEuoDMJvqyTGuYn",
      "include_colab_link": true
    },
    "kernelspec": {
      "name": "python3",
      "display_name": "Python 3"
    },
    "language_info": {
      "name": "python"
    }
  },
  "cells": [
    {
      "cell_type": "markdown",
      "metadata": {
        "id": "view-in-github",
        "colab_type": "text"
      },
      "source": [
        "<a href=\"https://colab.research.google.com/github/manhanton/test_15June/blob/main/Model_test.ipynb\" target=\"_parent\"><img src=\"https://colab.research.google.com/assets/colab-badge.svg\" alt=\"Open In Colab\"/></a>"
      ]
    },
    {
      "cell_type": "markdown",
      "source": [
        "**select the label from input()**"
      ],
      "metadata": {
        "id": "WfEFzcuro2-R"
      }
    },
    {
      "cell_type": "code",
      "execution_count": 1,
      "metadata": {
        "id": "K3wzKs4xncWa"
      },
      "outputs": [],
      "source": [
        "import pandas as pd"
      ]
    },
    {
      "cell_type": "code",
      "source": [
        "print(pd.__version__)"
      ],
      "metadata": {
        "colab": {
          "base_uri": "https://localhost:8080/"
        },
        "id": "pYXXdsW4oKlt",
        "outputId": "1d889832-0d71-4358-c095-4169d7870e37"
      },
      "execution_count": 3,
      "outputs": [
        {
          "output_type": "stream",
          "name": "stdout",
          "text": [
            "1.3.5\n"
          ]
        }
      ]
    },
    {
      "cell_type": "code",
      "source": [
        "df = pd.read_csv(\"/content/test_20June.csv\",index_col=\"Date\")"
      ],
      "metadata": {
        "id": "Lg1qEGNnn-xL"
      },
      "execution_count": 11,
      "outputs": []
    },
    {
      "cell_type": "code",
      "source": [
        "df.head()"
      ],
      "metadata": {
        "colab": {
          "base_uri": "https://localhost:8080/",
          "height": 331
        },
        "id": "40sPdArboW9X",
        "outputId": "6e16d5cb-3fed-40b9-e12a-6c7f963f93dc"
      },
      "execution_count": 12,
      "outputs": [
        {
          "output_type": "execute_result",
          "data": {
            "text/plain": [
              "            NASDAQCOM  BOGMBASEW  DFII10      WALCL  VIXCLS  DGS10  DGS2  \\\n",
              "Date                                                                       \n",
              "08/06/2010    2170.57  2019365.0    1.29  2336216.0   33.70   3.18  0.74   \n",
              "09/06/2010    2158.85  2007579.0    1.28  2331529.0   33.73   3.20  0.74   \n",
              "10/06/2010    2218.71  2007579.0    1.35  2331529.0   30.57   3.33  0.79   \n",
              "11/06/2010    2243.60  2007579.0    1.29  2331529.0   28.79   3.24  0.75   \n",
              "14/06/2010    2243.96  2007579.0    1.31  2331529.0   28.58   3.28  0.77   \n",
              "\n",
              "            BAMLHYH0A0HYM2TRIV  BAMLH0A0HYM2  T5YIE  ...       macd  \\\n",
              "Date                                                 ...              \n",
              "08/06/2010              704.88          7.27   1.62  ... -47.565715   \n",
              "09/06/2010              704.59          7.26   1.63  ... -50.353409   \n",
              "10/06/2010              703.55          7.19   1.68  ... -47.188516   \n",
              "11/06/2010              704.01          7.27   1.65  ... -42.185611   \n",
              "14/06/2010              705.72          7.16   1.69  ... -37.756490   \n",
              "\n",
              "            macd_diff  macd_signal  Strategy_SMA  1m_future_close  \\\n",
              "Date                                                                \n",
              "08/06/2010  -2.580976   -44.984739            -1          2093.88   \n",
              "09/06/2010  -4.294937   -46.058473            -1          2159.47   \n",
              "10/06/2010  -0.904034   -46.284482            -1          2175.40   \n",
              "11/06/2010   3.279097   -45.464707            -1          2196.45   \n",
              "14/06/2010   6.166574   -43.923064            -1          2198.36   \n",
              "\n",
              "            1m_close_future_pct  2m_future_close  2m_close_future_pct  \\\n",
              "Date                                                                    \n",
              "08/06/2010            -0.035332          2254.70             0.038759   \n",
              "09/06/2010             0.000287          2295.36             0.063233   \n",
              "10/06/2010            -0.019520          2283.52             0.029211   \n",
              "11/06/2010            -0.021015          2303.57             0.026729   \n",
              "14/06/2010            -0.020321          2293.06             0.021881   \n",
              "\n",
              "            3m_future_close  3m_close_future_pct  \n",
              "Date                                              \n",
              "08/06/2010          2153.63            -0.007804  \n",
              "09/06/2010          2119.97            -0.018010  \n",
              "10/06/2010          2114.03            -0.047181  \n",
              "11/06/2010          2176.84            -0.029756  \n",
              "14/06/2010          2200.01            -0.019586  \n",
              "\n",
              "[5 rows x 47 columns]"
            ],
            "text/html": [
              "\n",
              "  <div id=\"df-be61b715-2ec7-44cc-86e1-f4f294061b4a\">\n",
              "    <div class=\"colab-df-container\">\n",
              "      <div>\n",
              "<style scoped>\n",
              "    .dataframe tbody tr th:only-of-type {\n",
              "        vertical-align: middle;\n",
              "    }\n",
              "\n",
              "    .dataframe tbody tr th {\n",
              "        vertical-align: top;\n",
              "    }\n",
              "\n",
              "    .dataframe thead th {\n",
              "        text-align: right;\n",
              "    }\n",
              "</style>\n",
              "<table border=\"1\" class=\"dataframe\">\n",
              "  <thead>\n",
              "    <tr style=\"text-align: right;\">\n",
              "      <th></th>\n",
              "      <th>NASDAQCOM</th>\n",
              "      <th>BOGMBASEW</th>\n",
              "      <th>DFII10</th>\n",
              "      <th>WALCL</th>\n",
              "      <th>VIXCLS</th>\n",
              "      <th>DGS10</th>\n",
              "      <th>DGS2</th>\n",
              "      <th>BAMLHYH0A0HYM2TRIV</th>\n",
              "      <th>BAMLH0A0HYM2</th>\n",
              "      <th>T5YIE</th>\n",
              "      <th>...</th>\n",
              "      <th>macd</th>\n",
              "      <th>macd_diff</th>\n",
              "      <th>macd_signal</th>\n",
              "      <th>Strategy_SMA</th>\n",
              "      <th>1m_future_close</th>\n",
              "      <th>1m_close_future_pct</th>\n",
              "      <th>2m_future_close</th>\n",
              "      <th>2m_close_future_pct</th>\n",
              "      <th>3m_future_close</th>\n",
              "      <th>3m_close_future_pct</th>\n",
              "    </tr>\n",
              "    <tr>\n",
              "      <th>Date</th>\n",
              "      <th></th>\n",
              "      <th></th>\n",
              "      <th></th>\n",
              "      <th></th>\n",
              "      <th></th>\n",
              "      <th></th>\n",
              "      <th></th>\n",
              "      <th></th>\n",
              "      <th></th>\n",
              "      <th></th>\n",
              "      <th></th>\n",
              "      <th></th>\n",
              "      <th></th>\n",
              "      <th></th>\n",
              "      <th></th>\n",
              "      <th></th>\n",
              "      <th></th>\n",
              "      <th></th>\n",
              "      <th></th>\n",
              "      <th></th>\n",
              "      <th></th>\n",
              "    </tr>\n",
              "  </thead>\n",
              "  <tbody>\n",
              "    <tr>\n",
              "      <th>08/06/2010</th>\n",
              "      <td>2170.57</td>\n",
              "      <td>2019365.0</td>\n",
              "      <td>1.29</td>\n",
              "      <td>2336216.0</td>\n",
              "      <td>33.70</td>\n",
              "      <td>3.18</td>\n",
              "      <td>0.74</td>\n",
              "      <td>704.88</td>\n",
              "      <td>7.27</td>\n",
              "      <td>1.62</td>\n",
              "      <td>...</td>\n",
              "      <td>-47.565715</td>\n",
              "      <td>-2.580976</td>\n",
              "      <td>-44.984739</td>\n",
              "      <td>-1</td>\n",
              "      <td>2093.88</td>\n",
              "      <td>-0.035332</td>\n",
              "      <td>2254.70</td>\n",
              "      <td>0.038759</td>\n",
              "      <td>2153.63</td>\n",
              "      <td>-0.007804</td>\n",
              "    </tr>\n",
              "    <tr>\n",
              "      <th>09/06/2010</th>\n",
              "      <td>2158.85</td>\n",
              "      <td>2007579.0</td>\n",
              "      <td>1.28</td>\n",
              "      <td>2331529.0</td>\n",
              "      <td>33.73</td>\n",
              "      <td>3.20</td>\n",
              "      <td>0.74</td>\n",
              "      <td>704.59</td>\n",
              "      <td>7.26</td>\n",
              "      <td>1.63</td>\n",
              "      <td>...</td>\n",
              "      <td>-50.353409</td>\n",
              "      <td>-4.294937</td>\n",
              "      <td>-46.058473</td>\n",
              "      <td>-1</td>\n",
              "      <td>2159.47</td>\n",
              "      <td>0.000287</td>\n",
              "      <td>2295.36</td>\n",
              "      <td>0.063233</td>\n",
              "      <td>2119.97</td>\n",
              "      <td>-0.018010</td>\n",
              "    </tr>\n",
              "    <tr>\n",
              "      <th>10/06/2010</th>\n",
              "      <td>2218.71</td>\n",
              "      <td>2007579.0</td>\n",
              "      <td>1.35</td>\n",
              "      <td>2331529.0</td>\n",
              "      <td>30.57</td>\n",
              "      <td>3.33</td>\n",
              "      <td>0.79</td>\n",
              "      <td>703.55</td>\n",
              "      <td>7.19</td>\n",
              "      <td>1.68</td>\n",
              "      <td>...</td>\n",
              "      <td>-47.188516</td>\n",
              "      <td>-0.904034</td>\n",
              "      <td>-46.284482</td>\n",
              "      <td>-1</td>\n",
              "      <td>2175.40</td>\n",
              "      <td>-0.019520</td>\n",
              "      <td>2283.52</td>\n",
              "      <td>0.029211</td>\n",
              "      <td>2114.03</td>\n",
              "      <td>-0.047181</td>\n",
              "    </tr>\n",
              "    <tr>\n",
              "      <th>11/06/2010</th>\n",
              "      <td>2243.60</td>\n",
              "      <td>2007579.0</td>\n",
              "      <td>1.29</td>\n",
              "      <td>2331529.0</td>\n",
              "      <td>28.79</td>\n",
              "      <td>3.24</td>\n",
              "      <td>0.75</td>\n",
              "      <td>704.01</td>\n",
              "      <td>7.27</td>\n",
              "      <td>1.65</td>\n",
              "      <td>...</td>\n",
              "      <td>-42.185611</td>\n",
              "      <td>3.279097</td>\n",
              "      <td>-45.464707</td>\n",
              "      <td>-1</td>\n",
              "      <td>2196.45</td>\n",
              "      <td>-0.021015</td>\n",
              "      <td>2303.57</td>\n",
              "      <td>0.026729</td>\n",
              "      <td>2176.84</td>\n",
              "      <td>-0.029756</td>\n",
              "    </tr>\n",
              "    <tr>\n",
              "      <th>14/06/2010</th>\n",
              "      <td>2243.96</td>\n",
              "      <td>2007579.0</td>\n",
              "      <td>1.31</td>\n",
              "      <td>2331529.0</td>\n",
              "      <td>28.58</td>\n",
              "      <td>3.28</td>\n",
              "      <td>0.77</td>\n",
              "      <td>705.72</td>\n",
              "      <td>7.16</td>\n",
              "      <td>1.69</td>\n",
              "      <td>...</td>\n",
              "      <td>-37.756490</td>\n",
              "      <td>6.166574</td>\n",
              "      <td>-43.923064</td>\n",
              "      <td>-1</td>\n",
              "      <td>2198.36</td>\n",
              "      <td>-0.020321</td>\n",
              "      <td>2293.06</td>\n",
              "      <td>0.021881</td>\n",
              "      <td>2200.01</td>\n",
              "      <td>-0.019586</td>\n",
              "    </tr>\n",
              "  </tbody>\n",
              "</table>\n",
              "<p>5 rows × 47 columns</p>\n",
              "</div>\n",
              "      <button class=\"colab-df-convert\" onclick=\"convertToInteractive('df-be61b715-2ec7-44cc-86e1-f4f294061b4a')\"\n",
              "              title=\"Convert this dataframe to an interactive table.\"\n",
              "              style=\"display:none;\">\n",
              "        \n",
              "  <svg xmlns=\"http://www.w3.org/2000/svg\" height=\"24px\"viewBox=\"0 0 24 24\"\n",
              "       width=\"24px\">\n",
              "    <path d=\"M0 0h24v24H0V0z\" fill=\"none\"/>\n",
              "    <path d=\"M18.56 5.44l.94 2.06.94-2.06 2.06-.94-2.06-.94-.94-2.06-.94 2.06-2.06.94zm-11 1L8.5 8.5l.94-2.06 2.06-.94-2.06-.94L8.5 2.5l-.94 2.06-2.06.94zm10 10l.94 2.06.94-2.06 2.06-.94-2.06-.94-.94-2.06-.94 2.06-2.06.94z\"/><path d=\"M17.41 7.96l-1.37-1.37c-.4-.4-.92-.59-1.43-.59-.52 0-1.04.2-1.43.59L10.3 9.45l-7.72 7.72c-.78.78-.78 2.05 0 2.83L4 21.41c.39.39.9.59 1.41.59.51 0 1.02-.2 1.41-.59l7.78-7.78 2.81-2.81c.8-.78.8-2.07 0-2.86zM5.41 20L4 18.59l7.72-7.72 1.47 1.35L5.41 20z\"/>\n",
              "  </svg>\n",
              "      </button>\n",
              "      \n",
              "  <style>\n",
              "    .colab-df-container {\n",
              "      display:flex;\n",
              "      flex-wrap:wrap;\n",
              "      gap: 12px;\n",
              "    }\n",
              "\n",
              "    .colab-df-convert {\n",
              "      background-color: #E8F0FE;\n",
              "      border: none;\n",
              "      border-radius: 50%;\n",
              "      cursor: pointer;\n",
              "      display: none;\n",
              "      fill: #1967D2;\n",
              "      height: 32px;\n",
              "      padding: 0 0 0 0;\n",
              "      width: 32px;\n",
              "    }\n",
              "\n",
              "    .colab-df-convert:hover {\n",
              "      background-color: #E2EBFA;\n",
              "      box-shadow: 0px 1px 2px rgba(60, 64, 67, 0.3), 0px 1px 3px 1px rgba(60, 64, 67, 0.15);\n",
              "      fill: #174EA6;\n",
              "    }\n",
              "\n",
              "    [theme=dark] .colab-df-convert {\n",
              "      background-color: #3B4455;\n",
              "      fill: #D2E3FC;\n",
              "    }\n",
              "\n",
              "    [theme=dark] .colab-df-convert:hover {\n",
              "      background-color: #434B5C;\n",
              "      box-shadow: 0px 1px 3px 1px rgba(0, 0, 0, 0.15);\n",
              "      filter: drop-shadow(0px 1px 2px rgba(0, 0, 0, 0.3));\n",
              "      fill: #FFFFFF;\n",
              "    }\n",
              "  </style>\n",
              "\n",
              "      <script>\n",
              "        const buttonEl =\n",
              "          document.querySelector('#df-be61b715-2ec7-44cc-86e1-f4f294061b4a button.colab-df-convert');\n",
              "        buttonEl.style.display =\n",
              "          google.colab.kernel.accessAllowed ? 'block' : 'none';\n",
              "\n",
              "        async function convertToInteractive(key) {\n",
              "          const element = document.querySelector('#df-be61b715-2ec7-44cc-86e1-f4f294061b4a');\n",
              "          const dataTable =\n",
              "            await google.colab.kernel.invokeFunction('convertToInteractive',\n",
              "                                                     [key], {});\n",
              "          if (!dataTable) return;\n",
              "\n",
              "          const docLinkHtml = 'Like what you see? Visit the ' +\n",
              "            '<a target=\"_blank\" href=https://colab.research.google.com/notebooks/data_table.ipynb>data table notebook</a>'\n",
              "            + ' to learn more about interactive tables.';\n",
              "          element.innerHTML = '';\n",
              "          dataTable['output_type'] = 'display_data';\n",
              "          await google.colab.output.renderOutput(dataTable, element);\n",
              "          const docLink = document.createElement('div');\n",
              "          docLink.innerHTML = docLinkHtml;\n",
              "          element.appendChild(docLink);\n",
              "        }\n",
              "      </script>\n",
              "    </div>\n",
              "  </div>\n",
              "  "
            ]
          },
          "metadata": {},
          "execution_count": 12
        }
      ]
    },
    {
      "cell_type": "code",
      "source": [
        "# import library\n",
        "\n",
        "import pandas as pd\n",
        "import numpy as np\n",
        "from sklearn.discriminant_analysis import LinearDiscriminantAnalysis\n",
        "from sklearn.discriminant_analysis import QuadraticDiscriminantAnalysis\n",
        "from sklearn.naive_bayes import GaussianNB\n",
        "from sklearn.naive_bayes import MultinomialNB\n",
        "from sklearn.naive_bayes import BernoulliNB\n",
        "from sklearn.svm import SVC\n",
        "from sklearn.linear_model import Perceptron\n",
        "from sklearn.neighbors import KNeighborsClassifier\n",
        "from sklearn.ensemble import AdaBoostClassifier\n",
        "from sklearn.ensemble import RandomForestClassifier\n",
        "from sklearn import metrics\n",
        "from sklearn.preprocessing import Normalizer\n",
        "from sklearn.preprocessing import StandardScaler\n",
        "from sklearn.preprocessing import MinMaxScaler \n",
        "from sklearn.feature_selection import RFE\n",
        "from sklearn.feature_selection import RFECV\n",
        "from sklearn.model_selection import cross_validate\n",
        "from sklearn.model_selection import cross_val_score\n",
        "import matplotlib.pyplot as plt \n",
        "\n",
        "\n",
        "# Initializing the classifiers \n",
        "\n",
        "# lda = LinearDiscriminantAnalysis()\n",
        "# qda = QuadraticDiscriminantAnalysis()\n",
        "# gnb = GaussianNB()\n",
        "# mnb = MultinomialNB()\n",
        "# bnb = BernoulliNB()\n",
        "knn = KNeighborsClassifier()\n",
        "rf = RandomForestClassifier()\n",
        "ada = AdaBoostClassifier()"
      ],
      "metadata": {
        "id": "wKKRZKnboxWv"
      },
      "execution_count": 6,
      "outputs": []
    },
    {
      "cell_type": "code",
      "source": [
        "classifiers = [knn,rf,ada]\n",
        "classifier_names = [\"KNeighbors\",\"Random Forests\",\"Ada Boost\"] # \"LDA\",\"Quadratic\",\"GaussianNB\",\"MultinomialNB\",\"BernoulliNB\","
      ],
      "metadata": {
        "id": "vFgivpkRpMJk"
      },
      "execution_count": 7,
      "outputs": []
    },
    {
      "cell_type": "code",
      "source": [
        "type(classifiers)"
      ],
      "metadata": {
        "colab": {
          "base_uri": "https://localhost:8080/"
        },
        "id": "o7aDsZKYpltr",
        "outputId": "8a614fd2-c431-44c8-8e94-19e42de10348"
      },
      "execution_count": 8,
      "outputs": [
        {
          "output_type": "execute_result",
          "data": {
            "text/plain": [
              "list"
            ]
          },
          "metadata": {},
          "execution_count": 8
        }
      ]
    },
    {
      "cell_type": "code",
      "source": [
        "\"\"\"\n",
        "1. Model (list)\n",
        "2. Df\n",
        "________________________\n",
        "0. x = # no of x\n",
        "\n",
        "3\n",
        "\n",
        "x1 = ss\n",
        "x2 = ssss\n",
        "x3 = aaa\n",
        "\n",
        "\n",
        "1. x = input(), y = input(). # show column in command prompt\n",
        "\n",
        "\"\"\""
      ],
      "metadata": {
        "id": "y7PfDxOaqXRD"
      },
      "execution_count": null,
      "outputs": []
    },
    {
      "cell_type": "code",
      "source": [
        ""
      ],
      "metadata": {
        "id": "XDzPXsb9tdNg"
      },
      "execution_count": null,
      "outputs": []
    },
    {
      "cell_type": "code",
      "source": [
        "x = input().split(\" \")"
      ],
      "metadata": {
        "id": "llKMPFrnsW9s"
      },
      "execution_count": null,
      "outputs": []
    },
    {
      "cell_type": "code",
      "source": [
        "feature_name = list(df.columns)\n",
        "for i in range(len(feature_name)):\n",
        "  print(i,feature_name[i])\n",
        "\n",
        "\n",
        "x = input().split(\" \")\n",
        "names = []\n",
        "for j in x:\n",
        "  df_sel = df.names.append(feature_name[int(j)])\n",
        "  \n",
        "\n",
        "# x = input()\n",
        "# x = feature_name[int(x)]\n",
        "# print(x)"
      ],
      "metadata": {
        "colab": {
          "base_uri": "https://localhost:8080/"
        },
        "id": "Q0DXq__lrZGD",
        "outputId": "1cde96a1-b80b-4caa-f40b-4e2d66d441d8"
      },
      "execution_count": 22,
      "outputs": [
        {
          "output_type": "stream",
          "name": "stdout",
          "text": [
            "0 NASDAQCOM\n",
            "1 BOGMBASEW\n",
            "2 DFII10\n",
            "3 WALCL\n",
            "4 VIXCLS\n",
            "5 DGS10\n",
            "6 DGS2\n",
            "7 BAMLHYH0A0HYM2TRIV\n",
            "8 BAMLH0A0HYM2\n",
            "9 T5YIE\n",
            "10 MHHNGSP\n",
            "11 VXXLECLS\n",
            "12 return\n",
            "13 direction\n",
            "14 lag_1\n",
            "15 lag_2\n",
            "16 lag_3\n",
            "17 lag_4\n",
            "18 lag_5\n",
            "19 lag_6\n",
            "20 lag_7\n",
            "21 lag_8\n",
            "22 lag_9\n",
            "23 lag_10\n",
            "24 lag_11\n",
            "25 lag_12\n",
            "26 lag_13\n",
            "27 lag_14\n",
            "28 lag_15\n",
            "29 lag_16\n",
            "30 lag_17\n",
            "31 lag_18\n",
            "32 lag_19\n",
            "33 lag_20\n",
            "34 bb_bbm\n",
            "35 bb_bbh\n",
            "36 bb_bbl\n",
            "37 macd\n",
            "38 macd_diff\n",
            "39 macd_signal\n",
            "40 Strategy_SMA\n",
            "41 1m_future_close\n",
            "42 1m_close_future_pct\n",
            "43 2m_future_close\n",
            "44 2m_close_future_pct\n",
            "45 3m_future_close\n",
            "46 3m_close_future_pct\n",
            "9 13 37\n",
            "T5YIE\n",
            "direction\n",
            "macd\n"
          ]
        }
      ]
    },
    {
      "cell_type": "code",
      "source": [
        ""
      ],
      "metadata": {
        "id": "ZHph76-frbPo"
      },
      "execution_count": null,
      "outputs": []
    }
  ]
}